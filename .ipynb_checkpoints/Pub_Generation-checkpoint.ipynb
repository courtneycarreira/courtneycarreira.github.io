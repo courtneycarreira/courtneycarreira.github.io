{
 "cells": [
  {
   "cell_type": "code",
   "execution_count": 21,
   "id": "e9f715cb",
   "metadata": {},
   "outputs": [
    {
     "name": "stdout",
     "output_type": "stream",
     "text": [
      "[{'adsnote': 'Provided by the SAO/NASA Astrophysics Data System', 'adsurl': 'https://ui.adsabs.harvard.edu/abs/2023AAS...24121101C', 'pages': '211.01', 'eid': '211.01', 'month': 'January', 'volume': '55', 'series': 'American Astronomical Society Meeting Abstracts', 'year': '2023', 'booktitle': 'American Astronomical Society Meeting Abstracts', 'title': '{The Effect of Spiral Arms on Molecular Cloud Formation in M33}', 'author': '{Carreira}, Courtney and {Koch}, Eric and {Jeffreson}, Sarah', 'ENTRYTYPE': 'inproceedings', 'ID': '2023AAS...24121101C'}, {'adsnote': 'Provided by the SAO/NASA Astrophysics Data System', 'adsurl': 'https://ui.adsabs.harvard.edu/abs/2021LPICo2549.7087C', 'pages': '7087', 'eid': '7087', 'month': 'June', 'volume': '2549', 'series': 'LPI Contributions', 'year': '2021', 'booktitle': '5th Planetary Data Workshop \\\\& Planetary Science Informatics \\\\& Analytics', 'title': '{Lunar Crater Maturity Analysis in Python: Developing a Toolkit for Ejecta Analysis}', 'author': '{Carr}, K.~A.~C. and {Azubuike}, O.~A. and {Tran}, A.~T. and {Carreira}, C.~C. and {Alfaro}, C.~A. and {Greenhagen}, G.~B. and {Patterson}, G.~W.~P. and {Stickle}, A.~M.~S. and {Prem}, P.~P. and {Cahill}, J.~T.~S.~C. and {Tai Udovicic}, C.~J.~T.~U.', 'ENTRYTYPE': 'inproceedings', 'ID': '2021LPICo2549.7087C'}, {'adsnote': 'Provided by the SAO/NASA Astrophysics Data System', 'adsurl': 'https://ui.adsabs.harvard.edu/abs/2021LPI....52.2387C', 'pages': '2387', 'eid': '2387', 'month': 'March', 'series': 'Lunar and Planetary Science Conference', 'year': '2021', 'booktitle': '52nd Lunar and Planetary Science Conference', 'title': '{Lunar Crater Maturity Analysis in Python: Developing a Toolkit for Ejecta Analysis}', 'author': '{Carr}, K.~A.~C. and {Azubuike}, O.~A. and {Tran}, A.~T. and {Carreira}, C.~C. and {Alfaro}, C.~A. and {Greenhagen}, B.~T.~G. and {Patterson}, G.~W.~P. and {Stickle}, A.~M.~S.', 'ENTRYTYPE': 'inproceedings', 'ID': '2021LPI....52.2387C'}, {'adsnote': 'Provided by the SAO/NASA Astrophysics Data System', 'adsurl': 'https://ui.adsabs.harvard.edu/abs/2021LPI....52.2258A', 'pages': '2258', 'eid': '2258', 'month': 'March', 'series': 'Lunar and Planetary Science Conference', 'year': '2021', 'booktitle': '52nd Lunar and Planetary Science Conference', 'title': '{The Effect of Isotopic Composition and Surface Residence Times on Lunar Volatile Transport}', 'author': '{Alfaro}, C. and {Tran}, A. and {Carr}, K.~A. and {Azubuike}, O. and {Carreira}, C. and {Prem}, P. and {Dominguez}, G. and {Greenhagen}, B.~T. and {Hurley}, D.~M. and {Stickle}, A.~M. and {Patterson}, G.~W. and {Cahill}, J.~T.~S.', 'ENTRYTYPE': 'inproceedings', 'ID': '2021LPI....52.2258A'}]\n"
     ]
    }
   ],
   "source": [
    "import bibtexparser\n",
    "\n",
    "with open('export-bibtex (4).bib') as bibtex_file:\n",
    "    bib_database = bibtexparser.load(bibtex_file)\n",
    "\n",
    "print(bib_database.entries)"
   ]
  },
  {
   "cell_type": "code",
   "execution_count": 22,
   "id": "76640b54",
   "metadata": {},
   "outputs": [
    {
     "data": {
      "text/plain": [
       "4"
      ]
     },
     "execution_count": 22,
     "metadata": {},
     "output_type": "execute_result"
    }
   ],
   "source": [
    "len(bib_database.entries)"
   ]
  },
  {
   "cell_type": "code",
   "execution_count": 35,
   "id": "25373cc5",
   "metadata": {},
   "outputs": [],
   "source": [
    "def create_lineitem():\n",
    "    \n",
    "    with open('export-bibtex (4).bib') as bibtex_file:\n",
    "        bib_database = bibtexparser.load(bibtex_file)\n",
    "    \n",
    "    with open('Pub_Links.txt') as links_file:\n",
    "        links_database = bibtexparser.load(links_file)\n",
    "        \n",
    "    s = ''\n",
    "        \n",
    "    for i in range(len(bib_database.entries)):\n",
    "        s += f\"\"\"\n",
    "<li>\n",
    "<div class=\"pub-row\">\n",
    "\n",
    "  <div class=\"col-sm-3 abbr\" style=\"position: relative;padding-right: 15px;padding-left: 15px;\">\n",
    "    <img src=\"assets/img/{bib_database.entries[i]['ID']}.png\" class=\"teaser img-fluid z-depth-1\">\n",
    "  </div>\n",
    "\n",
    "  <div class=\"col-sm-9\" style=\"position: relative;padding-right: 15px;padding-left: 20px;\">\n",
    "    <div class=\"title\">{bib_database.entries[i]['title']}</div>\n",
    "    <div class=\"author\">{bib_database.entries[i]['author']}</div>\n",
    "    <div class=\"periodical\"><em>{bib_database.entries[i]['booktitle']}, {bib_database.entries[i]['month']} {bib_database.entries[i]['year']}.</em></div>\n",
    "    <div class=\"links\">\n",
    "      <a href={links_database.entries[i]['pdf']} class=\"btn btn-sm z-depth-0\" role=\"button\" target=\"_blank\" style=\"font-size:12px;\">PDF</a>\n",
    "      <a href={links_database.entries[i]['code']} class=\"btn btn-sm z-depth-0\" role=\"button\" target=\"_blank\" style=\"font-size:12px;\">Code</a>\n",
    "      <a href={links_database.entries[i]['project_page']} class=\"btn btn-sm z-depth-0\" role=\"button\" target=\"_blank\" style=\"font-size:12px;\">Project Page</a>\n",
    "      <a href={links_database.entries[i]['source']} class=\"btn btn-sm z-depth-0\" role=\"button\" target=\"_blank\" style=\"font-size:12px;\">Source</a>\n",
    "      <a href={links_database.entries[i]['supplemental']} class=\"btn btn-sm z-depth-0\" role=\"button\" target=\"_blank\" style=\"font-size:12px;\">Supplemental</a>\n",
    "      <a href={links_database.entries[i]['video']} class=\"btn btn-sm z-depth-0\" role=\"button\" target=\"_blank\" style=\"font-size:12px;\">Video</a>\n",
    "      <a href={links_database.entries[i]['bibtex']} class=\"btn btn-sm z-depth-0\" role=\"button\" target=\"_blank\" style=\"font-size:12px;\">BibTex</a>\n",
    "    </div>\n",
    "  </div>\n",
    "</div>\n",
    "</li>\n",
    "        \"\"\"\n",
    "        \n",
    "    return s\n"
   ]
  },
  {
   "cell_type": "code",
   "execution_count": 38,
   "id": "0178cf24",
   "metadata": {},
   "outputs": [],
   "source": [
    "def create_html():\n",
    "    top = f\"\"\"\n",
    "<h2 id=\"publications\" style=\"margin: 2px 0px -15px;\">Publications</h2>\n",
    "\n",
    "<div class=\"publications\">\n",
    "<ol class=\"bibliography\">\n",
    "    \"\"\"\n",
    "    \n",
    "    lineitems = create_lineitem()\n",
    "    \n",
    "    bottom = f\"\"\"\n",
    "<br>\n",
    "\n",
    "</ol>\n",
    "</div>\n",
    "    \"\"\"\n",
    "    \n",
    "    final = top + lineitems + bottom\n",
    "    \n",
    "    with open('_includes/publications.md', 'w') as f:\n",
    "        f.write(final)\n",
    "    \n",
    "#     return final"
   ]
  },
  {
   "cell_type": "code",
   "execution_count": 39,
   "id": "677ab563",
   "metadata": {},
   "outputs": [],
   "source": [
    "create_html()"
   ]
  }
 ],
 "metadata": {
  "kernelspec": {
   "display_name": "Python 3 (ipykernel)",
   "language": "python",
   "name": "python3"
  },
  "language_info": {
   "codemirror_mode": {
    "name": "ipython",
    "version": 3
   },
   "file_extension": ".py",
   "mimetype": "text/x-python",
   "name": "python",
   "nbconvert_exporter": "python",
   "pygments_lexer": "ipython3",
   "version": "3.8.5"
  }
 },
 "nbformat": 4,
 "nbformat_minor": 5
}
