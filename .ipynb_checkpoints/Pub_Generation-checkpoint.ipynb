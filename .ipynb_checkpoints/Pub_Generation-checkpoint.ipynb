{
 "cells": [
  {
   "cell_type": "code",
   "execution_count": null,
   "id": "50ab4163",
   "metadata": {
    "scrolled": true
   },
   "outputs": [],
   "source": [
    "with open(\"export-bibtex (4).bib\",'r') as data_file:\n",
    "    data_file = data_file.split('@')\n",
    "    print(data_file)"
   ]
  },
  {
   "cell_type": "code",
   "execution_count": null,
   "id": "76e89006",
   "metadata": {},
   "outputs": [],
   "source": [
    "# opening the file\n",
    "file_obj = open(\"export-bibtex (4).bib\", \"r\")\n",
    "\n",
    "# splitting the file data into lines\n",
    "lines = [[x.rstrip('@')] for x in file_obj]\n",
    "print(lines)\n",
    "file_obj.close()\n"
   ]
  },
  {
   "cell_type": "code",
   "execution_count": null,
   "id": "7389b855",
   "metadata": {},
   "outputs": [],
   "source": [
    "import re\n",
    "\n",
    "bibtex = open(\"export-bibtex (4).bib\", \"r\")\n",
    "for i, j in enumerate(re.split('\\n{2,}', bibtex.read())):\n",
    "    if j.startswith(\"@\"):\n",
    "        print(f\"bigfile{i}.txt\", j, sep=\"\\n\") # dump to file here\n",
    "        \n",
    "        with open('bigfile'+str(i)+'.txt', 'w') as f:\n",
    "            f.write(j)"
   ]
  },
  {
   "cell_type": "code",
   "execution_count": 1,
   "id": "688ed131",
   "metadata": {},
   "outputs": [
    {
     "name": "stdout",
     "output_type": "stream",
     "text": [
      "[{'adsnote': 'Provided by the SAO/NASA Astrophysics Data System', 'adsurl': 'https://ui.adsabs.harvard.edu/abs/2023AAS...24121101C', 'pages': '211.01', 'eid': '211.01', 'month': 'January', 'volume': '55', 'series': 'American Astronomical Society Meeting Abstracts', 'year': '2023', 'booktitle': 'American Astronomical Society Meeting Abstracts', 'title': '{The Effect of Spiral Arms on Molecular Cloud Formation in M33}', 'author': '{Carreira}, Courtney and {Koch}, Eric and {Jeffreson}, Sarah', 'ENTRYTYPE': 'inproceedings', 'ID': '2023AAS...24121101C'}, {'adsnote': 'Provided by the SAO/NASA Astrophysics Data System', 'adsurl': 'https://ui.adsabs.harvard.edu/abs/2021LPICo2549.7087C', 'pages': '7087', 'eid': '7087', 'month': 'June', 'volume': '2549', 'series': 'LPI Contributions', 'year': '2021', 'booktitle': '5th Planetary Data Workshop \\\\& Planetary Science Informatics \\\\& Analytics', 'title': '{Lunar Crater Maturity Analysis in Python: Developing a Toolkit for Ejecta Analysis}', 'author': '{Carr}, K.~A.~C. and {Azubuike}, O.~A. and {Tran}, A.~T. and {Carreira}, C.~C. and {Alfaro}, C.~A. and {Greenhagen}, G.~B. and {Patterson}, G.~W.~P. and {Stickle}, A.~M.~S. and {Prem}, P.~P. and {Cahill}, J.~T.~S.~C. and {Tai Udovicic}, C.~J.~T.~U.', 'ENTRYTYPE': 'inproceedings', 'ID': '2021LPICo2549.7087C'}, {'adsnote': 'Provided by the SAO/NASA Astrophysics Data System', 'adsurl': 'https://ui.adsabs.harvard.edu/abs/2021LPI....52.2387C', 'pages': '2387', 'eid': '2387', 'month': 'March', 'series': 'Lunar and Planetary Science Conference', 'year': '2021', 'booktitle': '52nd Lunar and Planetary Science Conference', 'title': '{Lunar Crater Maturity Analysis in Python: Developing a Toolkit for Ejecta Analysis}', 'author': '{Carr}, K.~A.~C. and {Azubuike}, O.~A. and {Tran}, A.~T. and {Carreira}, C.~C. and {Alfaro}, C.~A. and {Greenhagen}, B.~T.~G. and {Patterson}, G.~W.~P. and {Stickle}, A.~M.~S.', 'ENTRYTYPE': 'inproceedings', 'ID': '2021LPI....52.2387C'}, {'adsnote': 'Provided by the SAO/NASA Astrophysics Data System', 'adsurl': 'https://ui.adsabs.harvard.edu/abs/2021LPI....52.2258A', 'pages': '2258', 'eid': '2258', 'month': 'March', 'series': 'Lunar and Planetary Science Conference', 'year': '2021', 'booktitle': '52nd Lunar and Planetary Science Conference', 'title': '{The Effect of Isotopic Composition and Surface Residence Times on Lunar Volatile Transport}', 'author': '{Alfaro}, C. and {Tran}, A. and {Carr}, K.~A. and {Azubuike}, O. and {Carreira}, C. and {Prem}, P. and {Dominguez}, G. and {Greenhagen}, B.~T. and {Hurley}, D.~M. and {Stickle}, A.~M. and {Patterson}, G.~W. and {Cahill}, J.~T.~S.', 'ENTRYTYPE': 'inproceedings', 'ID': '2021LPI....52.2258A'}]\n"
     ]
    }
   ],
   "source": [
    "import bibtexparser\n",
    "\n",
    "with open('export-bibtex (4).bib') as bibtex_file:\n",
    "    bib_database = bibtexparser.load(bibtex_file)\n",
    "\n",
    "print(bib_database.entries)"
   ]
  },
  {
   "cell_type": "code",
   "execution_count": 2,
   "id": "3821e68e",
   "metadata": {},
   "outputs": [
    {
     "data": {
      "text/plain": [
       "{'adsnote': 'Provided by the SAO/NASA Astrophysics Data System',\n",
       " 'adsurl': 'https://ui.adsabs.harvard.edu/abs/2023AAS...24121101C',\n",
       " 'pages': '211.01',\n",
       " 'eid': '211.01',\n",
       " 'month': 'January',\n",
       " 'volume': '55',\n",
       " 'series': 'American Astronomical Society Meeting Abstracts',\n",
       " 'year': '2023',\n",
       " 'booktitle': 'American Astronomical Society Meeting Abstracts',\n",
       " 'title': '{The Effect of Spiral Arms on Molecular Cloud Formation in M33}',\n",
       " 'author': '{Carreira}, Courtney and {Koch}, Eric and {Jeffreson}, Sarah',\n",
       " 'ENTRYTYPE': 'inproceedings',\n",
       " 'ID': '2023AAS...24121101C'}"
      ]
     },
     "execution_count": 2,
     "metadata": {},
     "output_type": "execute_result"
    }
   ],
   "source": [
    "bib_database.entries[0]"
   ]
  },
  {
   "cell_type": "code",
   "execution_count": 8,
   "id": "91841380",
   "metadata": {},
   "outputs": [
    {
     "data": {
      "text/plain": [
       "{'bibtex': 'https://ui.adsabs.harvard.edu/abs/2023AAS...24121101C/exportcitation',\n",
       " 'source': 'https://baas.aas.org/pub/2023n2i211p01/release/1',\n",
       " 'code': '',\n",
       " 'photo': '',\n",
       " 'supplemental': '',\n",
       " 'video': '',\n",
       " 'pdf': '',\n",
       " 'project_page': '',\n",
       " 'ENTRYTYPE': 'inproceedings',\n",
       " 'ID': '2023AAS...24121101C'}"
      ]
     },
     "execution_count": 8,
     "metadata": {},
     "output_type": "execute_result"
    }
   ],
   "source": [
    "import bibtexparser\n",
    "\n",
    "with open('Pub_Links.txt') as bibtex_file:\n",
    "    bib_database = bibtexparser.load(bibtex_file)\n",
    "\n",
    "bib_database.entries[0]"
   ]
  },
  {
   "cell_type": "code",
   "execution_count": null,
   "id": "33f55da1",
   "metadata": {},
   "outputs": [],
   "source": [
    "def create_lineitem():\n",
    "    \n",
    "    with open('export-bibtex (4).bib') as bibtex_file:\n",
    "        bib_database = bibtexparser.load(bibtex_file)\n",
    "    \n",
    "    with open('Pub_Links.txt') as links_file:\n",
    "        links_database = bibtexparser.load(links_file)\n",
    "        \n",
    "    s = ''\n",
    "        \n",
    "    for i in range(len(bib_database)):\n",
    "        s += f\"\"\"\n",
    "        <li>\n",
    "<div class=\"pub-row\">\n",
    "\n",
    "  <div class=\"col-sm-3 abbr\" style=\"position: relative;padding-right: 15px;padding-left: 15px;\">\n",
    "    <img src=\"assets/img/{bib_database.entries[i]['ID']}.png\" class=\"teaser img-fluid z-depth-1\">\n",
    "  </div>\n",
    "\n",
    "  <div class=\"col-sm-9\" style=\"position: relative;padding-right: 15px;padding-left: 20px;\">\n",
    "    <div class=\"title\">{bib_database.entries[i]['title']}</div>\n",
    "    <div class=\"author\">{bib_database.entries[i]['author']}</div>\n",
    "    <div class=\"periodical\"><em>{bib_database.entries[i]['booktitle']}, {bib_database.entries[i]['month']} {bib_database.entries[i]['year']}.</em></div>\n",
    "    <div class=\"links\">\n",
    "      <a href={links_database.entries[i]['pdf']} class=\"btn btn-sm z-depth-0\" role=\"button\" target=\"_blank\" style=\"font-size:12px;\">PDF</a>\n",
    "      <a href={links_database.entries[i]['code']} class=\"btn btn-sm z-depth-0\" role=\"button\" target=\"_blank\" style=\"font-size:12px;\">Code</a>\n",
    "      <a href={links_database.entries[i]['project_page']} class=\"btn btn-sm z-depth-0\" role=\"button\" target=\"_blank\" style=\"font-size:12px;\">Project Page</a>\n",
    "      <a href={links_database.entries[i]['source']} class=\"btn btn-sm z-depth-0\" role=\"button\" target=\"_blank\" style=\"font-size:12px;\">Source</a>\n",
    "      <a href={links_database.entries[i]['supplemental']} class=\"btn btn-sm z-depth-0\" role=\"button\" target=\"_blank\" style=\"font-size:12px;\">Supplemental</a>\n",
    "      <a href={links_database.entries[i]['video']} class=\"btn btn-sm z-depth-0\" role=\"button\" target=\"_blank\" style=\"font-size:12px;\">Video</a>\n",
    "      <a href={links_database.entries[i]['bibtex']} class=\"btn btn-sm z-depth-0\" role=\"button\" target=\"_blank\" style=\"font-size:12px;\">BibTex</a>\n",
    "    </div>\n",
    "  </div>\n",
    "</div>\n",
    "</li>\n",
    "        \"\"\"\n",
    "        \n",
    "    \n",
    "        "
   ]
  },
  {
   "cell_type": "code",
   "execution_count": null,
   "id": "bb7a7cfe",
   "metadata": {},
   "outputs": [],
   "source": [
    "def create_html():\n",
    "    s = f\"\"\"\n",
    "    <h2 id=\"publications\" style=\"margin: 2px 0px -15px;\">Publications</h2>\n",
    "\n",
    "<div class=\"publications\">\n",
    "<ol class=\"bibliography\">\n",
    "    \"\"\"\n",
    "    \n",
    "    \n",
    "\n",
    "\n",
    "  \n",
    "<br>\n",
    "\n",
    "</ol>\n",
    "</div>\n",
    "    \"\"\"\n",
    "    return s"
   ]
  },
  {
   "cell_type": "code",
   "execution_count": 14,
   "id": "328bd3fa",
   "metadata": {},
   "outputs": [
    {
     "name": "stdout",
     "output_type": "stream",
     "text": [
      "1\n"
     ]
    }
   ],
   "source": [
    "s = '1'\n",
    "print (s)"
   ]
  },
  {
   "cell_type": "code",
   "execution_count": 15,
   "id": "dc370f6d",
   "metadata": {},
   "outputs": [
    {
     "name": "stdout",
     "output_type": "stream",
     "text": [
      "1\n",
      "hello\n",
      "\n"
     ]
    }
   ],
   "source": [
    "s += \"\"\"\n",
    "hello\n",
    "\"\"\"\n",
    "print(s)"
   ]
  },
  {
   "cell_type": "code",
   "execution_count": null,
   "id": "86bdbbbe",
   "metadata": {},
   "outputs": [],
   "source": []
  }
 ],
 "metadata": {
  "kernelspec": {
   "display_name": "Python 3 (ipykernel)",
   "language": "python",
   "name": "python3"
  },
  "language_info": {
   "codemirror_mode": {
    "name": "ipython",
    "version": 3
   },
   "file_extension": ".py",
   "mimetype": "text/x-python",
   "name": "python",
   "nbconvert_exporter": "python",
   "pygments_lexer": "ipython3",
   "version": "3.8.5"
  }
 },
 "nbformat": 4,
 "nbformat_minor": 5
}
