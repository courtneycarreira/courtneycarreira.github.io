{
 "cells": [
  {
   "cell_type": "code",
   "execution_count": 78,
   "id": "f40caf25",
   "metadata": {},
   "outputs": [
    {
     "data": {
      "text/plain": [
       "'{Carreira}, Courtney and {Koch}, Eric and {Jeffreson}, Sarah'"
      ]
     },
     "execution_count": 78,
     "metadata": {},
     "output_type": "execute_result"
    }
   ],
   "source": [
    "import bibtexparser\n",
    "\n",
    "with open('export-bibtex (4).bib') as bibtex_file:\n",
    "    bib_database = bibtexparser.load(bibtex_file)\n",
    "\n",
    "string = bib_database.entries[0]['author']\n",
    "string"
   ]
  },
  {
   "cell_type": "code",
   "execution_count": 83,
   "id": "a11a89d1",
   "metadata": {},
   "outputs": [
    {
     "data": {
      "text/plain": [
       "'Courtney Carreira, Eric Koch, Sarah Jeffreson'"
      ]
     },
     "execution_count": 83,
     "metadata": {},
     "output_type": "execute_result"
    }
   ],
   "source": [
    "author_list = []\n",
    "\n",
    "for authors in string.split(' and '):\n",
    "    words = authors.split(' ')\n",
    "    words = list(reversed(words))\n",
    "    final = \" \".join(words).replace(\"{\",\"\").replace(\"}\",\"\").replace(\",\",\"\").replace(\"~\",\"\")\n",
    "    author_list.append(final)\n",
    "    \n",
    "resultString = ', '.join(author_list)   \n",
    "resultString"
   ]
  },
  {
   "cell_type": "code",
   "execution_count": 62,
   "id": "99e3e1f5",
   "metadata": {},
   "outputs": [
    {
     "name": "stdout",
     "output_type": "stream",
     "text": [
      " {Jeffreson}, Sarah  {Koch}, Eric  {Carreira}, Courtney \n"
     ]
    }
   ],
   "source": [
    "words = string.split('and')\n",
    "## reversing the words using reversed() function\n",
    "words = list(reversed(words))\n",
    "## joining the words and printing\n",
    "print(\" \".join(words))"
   ]
  },
  {
   "cell_type": "code",
   "execution_count": null,
   "id": "65b745bf",
   "metadata": {},
   "outputs": [],
   "source": []
  },
  {
   "cell_type": "code",
   "execution_count": 22,
   "id": "b1b3a72a",
   "metadata": {},
   "outputs": [
    {
     "data": {
      "text/plain": [
       "4"
      ]
     },
     "execution_count": 22,
     "metadata": {},
     "output_type": "execute_result"
    }
   ],
   "source": [
    "len(bib_database.entries)"
   ]
  },
  {
   "cell_type": "code",
   "execution_count": 100,
   "id": "e54668cb",
   "metadata": {},
   "outputs": [],
   "source": [
    "def create_buttons(bib_entry):\n",
    "    \n",
    "    links_html = ''\n",
    "    \n",
    "    if bib_entry['pdf'] != \"\":\n",
    "        links_html += \"\"\"\n",
    "        <a href=\"{bib_entry['pdf']}\" class=\"btn btn-sm z-depth-0\" role=\"button\" target=\"_blank\" style=\"font-size:12px;\">PDF</a>\n",
    "        \"\"\"\n",
    "    if bib_entry['code'] != \"\":\n",
    "        links_html += \"\"\"\n",
    "        <a href=\"{bib_entry['code']}\" class=\"btn btn-sm z-depth-0\" role=\"button\" target=\"_blank\" style=\"font-size:12px;\">Code</a>\n",
    "        \"\"\"\n",
    "    if bib_entry['project_page'] != \"\":\n",
    "        links_html += \"\"\"\n",
    "        <a href=\"{bib_entry['project_page']}\" class=\"btn btn-sm z-depth-0\" role=\"button\" target=\"_blank\" style=\"font-size:12px;\">Project Page</a>\n",
    "        \"\"\"\n",
    "    if bib_entry['source'] != \"\":\n",
    "        links_html += \"\"\"\n",
    "        <a href=\"{bib_entry['source']}\" class=\"btn btn-sm z-depth-0\" role=\"button\" target=\"_blank\" style=\"font-size:12px;\">Source</a>\n",
    "        \"\"\"\n",
    "    if bib_entry['supplemental'] != \"\":\n",
    "        links_html += \"\"\"\n",
    "        <a href=\"{bib_entry['supplemental']}\" class=\"btn btn-sm z-depth-0\" role=\"button\" target=\"_blank\" style=\"font-size:12px;\">Supplemental</a>\n",
    "        \"\"\"\n",
    "    if bib_entry['video'] != \"\":\n",
    "        links_html += \"\"\"\n",
    "        <a href=\"{bib_entry['video']}\" class=\"btn btn-sm z-depth-0\" role=\"button\" target=\"_blank\" style=\"font-size:12px;\">Video</a>\n",
    "        \"\"\"\n",
    "    \n",
    "    return links_html\n",
    "    \n",
    "def create_lineitems():\n",
    "    \n",
    "    with open('export-bibtex (4).bib') as bibtex_file:\n",
    "        bib_database = bibtexparser.load(bibtex_file)\n",
    "    \n",
    "    with open('Pub_Links.txt') as links_file:\n",
    "        links_database = bibtexparser.load(links_file)\n",
    "    \n",
    "    s = ''\n",
    "        \n",
    "    for i in range(len(bib_database.entries)):\n",
    "        \n",
    "        author_list = []\n",
    "        for author in bib_database.entries[i]['author'].split(' and '):\n",
    "            names = author.split(' ')\n",
    "            names = list(reversed(names))\n",
    "            final = \" \".join(names).replace(\"{\",\"\").replace(\"}\",\"\").replace(\",\",\"\").replace(\"~\",\"\")\n",
    "            author_list.append(final)\n",
    "        bib_database.entries[i]['author'] = ', '.join(author_list)\n",
    "        \n",
    "        bib_database.entries[i]['title'] = bib_database.entries[i]['title'].replace(\"{\",\"\").replace(\"}\",\"\")\n",
    "        \n",
    "        links_html = create_buttons(links_database.entries[i])\n",
    "        \n",
    "        s += f\"\"\"\n",
    "<li>\n",
    "<div class=\"pub-row\">\n",
    "\n",
    "  <div class=\"col-sm-3 abbr\" style=\"position: relative;padding-right: 15px;padding-left: 15px;\">\n",
    "    <img src=\"assets/img/{bib_database.entries[i]['ID']}.png\" class=\"teaser img-fluid z-depth-1\">\n",
    "  </div>\n",
    "\n",
    "  <div class=\"col-sm-9\" style=\"position: relative;padding-right: 15px;padding-left: 20px;\">\n",
    "    <div class=\"title\">{bib_database.entries[i]['title']}</div>\n",
    "    <div class=\"author\">{bib_database.entries[i]['author']}</div>\n",
    "    <div class=\"periodical\"><em>{bib_database.entries[i]['booktitle']}, {bib_database.entries[i]['month']} {bib_database.entries[i]['year']}.</em></div>\n",
    "    <div class=\"links\">\n",
    "        {links_html}\n",
    "        <a href=\"{links_database.entries[i]['bibtex']}\" class=\"btn btn-sm z-depth-0\" role=\"button\" target=\"_blank\" style=\"font-size:12px;\">BibTex</a>\n",
    "    </div>\n",
    "  </div>\n",
    "</div>\n",
    "</li>\n",
    "        \"\"\"\n",
    "        \n",
    "    return s\n"
   ]
  },
  {
   "cell_type": "code",
   "execution_count": 101,
   "id": "8ccc7efd",
   "metadata": {},
   "outputs": [],
   "source": [
    "def create_html():\n",
    "    top = f\"\"\"\n",
    "<h2 id=\"publications\" style=\"margin: 2px 0px -15px;\">Publications</h2>\n",
    "\n",
    "<div class=\"publications\">\n",
    "<ol class=\"bibliography\">\n",
    "    \"\"\"\n",
    "    \n",
    "    lineitems = create_lineitems()\n",
    "    \n",
    "    bottom = f\"\"\"\n",
    "<br>\n",
    "\n",
    "</ol>\n",
    "</div>\n",
    "    \"\"\"\n",
    "    \n",
    "    final = top + lineitems + bottom\n",
    "    \n",
    "    with open('_includes/publications.md', 'w') as f:\n",
    "        f.write(final)"
   ]
  },
  {
   "cell_type": "code",
   "execution_count": 102,
   "id": "a3a9c2a9",
   "metadata": {},
   "outputs": [],
   "source": [
    "create_html()"
   ]
  },
  {
   "cell_type": "code",
   "execution_count": null,
   "id": "0ac3ccb0",
   "metadata": {},
   "outputs": [],
   "source": []
  }
 ],
 "metadata": {
  "kernelspec": {
   "display_name": "Python 3 (ipykernel)",
   "language": "python",
   "name": "python3"
  },
  "language_info": {
   "codemirror_mode": {
    "name": "ipython",
    "version": 3
   },
   "file_extension": ".py",
   "mimetype": "text/x-python",
   "name": "python",
   "nbconvert_exporter": "python",
   "pygments_lexer": "ipython3",
   "version": "3.8.5"
  }
 },
 "nbformat": 4,
 "nbformat_minor": 5
}
